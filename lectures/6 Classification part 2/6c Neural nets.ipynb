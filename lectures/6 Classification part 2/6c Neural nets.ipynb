{
 "cells": [
  {
   "cell_type": "markdown",
   "id": "4995c060",
   "metadata": {},
   "source": [
    "# Neural networks and logistic regression\n",
    "## Lecture objectives\n",
    "\n",
    "1. Demonstrate how to estimate neural network models\n",
    "2. Demonstrate how to estimate logistic regression models\n",
    "3. Provide more practice with train-test splits and assessing model performance\n",
    "4. Show how to standardize data\n",
    "\n",
    "In the previous video lectures, we estimated a random forests model using `scikit-learn`. \n",
    "\n",
    "Here, we'll explore other machine learning algorithms.\n",
    "\n",
    "Most have almost identical syntax, meaning once you are familiar with one model it's easy to apply another model. However, they will have different hyperparameters, such as the number of trees in the random forest.\n",
    "\n",
    "To start with, let's do the following:\n",
    "* load the data we previous saved as a pickle\n",
    "* recreate the dummy variables\n",
    "* create a dataframe with the subset of variables that we want to use, and drop the NaNs"
   ]
  },
  {
   "cell_type": "code",
   "execution_count": 1,
   "id": "10dd46dc",
   "metadata": {},
   "outputs": [],
   "source": [
    "# this is the same code as from the previous lecture\n",
    "import pandas as pd\n",
    "joinedDf = pd.read_pickle('../scratch/joined_permits.pandas')\n",
    "\n",
    "dummies1 = pd.get_dummies(joinedDf.UseType, prefix='usetype_')  # creates a dataframe of dummies\n",
    "dummies2 = pd.get_dummies(joinedDf.UseDescription, prefix='usedesc_')\n",
    "joinedDf = joinedDf.join(dummies1).join(dummies2) \n",
    "\n",
    "xvars = (dummies1.columns.tolist() + dummies2.columns.tolist() + \n",
    "            ['YearBuilt1', 'Units1', 'Bedrooms1', 'Bathrooms1', 'SQFTmain1', \n",
    "             'Roll_LandValue', 'Roll_ImpValue', 'Roll_LandBaseYear', \n",
    "             'Roll_ImpBaseYear', 'CENTER_LAT', 'CENTER_LON' ])\n",
    "yvar = 'hasADU'\n",
    "\n",
    "# create a dataframe with no NaNs\n",
    "df_to_fit = joinedDf[xvars+[yvar]].dropna()"
   ]
  },
  {
   "cell_type": "markdown",
   "id": "8c6e94cd",
   "metadata": {},
   "source": [
    "Let's also import the relevant `scikit-learn` functions."
   ]
  },
  {
   "cell_type": "code",
   "execution_count": 2,
   "id": "e011e347",
   "metadata": {},
   "outputs": [],
   "source": [
    "from sklearn.model_selection import train_test_split\n",
    "from sklearn.metrics import classification_report, confusion_matrix, accuracy_score, ConfusionMatrixDisplay"
   ]
  },
  {
   "cell_type": "markdown",
   "id": "d9fd3f0a",
   "metadata": {},
   "source": [
    "## Standardizing data\n",
    "Many machine learning algorithms are more robust if we *standardize* the data - subtract the mean and divide by the standard deviation. This puts each variable on a common scale.\n",
    "\n",
    "It didn't matter for random forests, but it does for neural networks.\n",
    "\n",
    "Let's do this. Note that we need to exclude the dummy variable columns and the dependent variable.\n",
    "\n",
    "To identify them, we'll use a Python [list comprehension](https://www.w3schools.com/python/python_lists_comprehension.asp). "
   ]
  },
  {
   "cell_type": "code",
   "execution_count": 3,
   "id": "5b65f119",
   "metadata": {},
   "outputs": [
    {
     "name": "stdout",
     "output_type": "stream",
     "text": [
      "['units_2020', 'squarefeet_2020', 'lotsize_2020']\n"
     ]
    }
   ],
   "source": [
    "# Example: add a suffix to each column\n",
    "oldcols = ['units', 'squarefeet','lotsize']\n",
    "newcols = []\n",
    "for col in oldcols:\n",
    "    newcols.append(col+'_2020')\n",
    "print(newcols)"
   ]
  },
  {
   "cell_type": "code",
   "execution_count": 4,
   "id": "25bc2bbe",
   "metadata": {},
   "outputs": [
    {
     "data": {
      "text/plain": [
       "['units_2020', 'squarefeet_2020', 'lotsize_2020']"
      ]
     },
     "execution_count": 4,
     "metadata": {},
     "output_type": "execute_result"
    }
   ],
   "source": [
    "# This is much cleaner as a list comprehension\n",
    "[col+'_2020' for col in oldcols]"
   ]
  },
  {
   "cell_type": "code",
   "execution_count": 5,
   "id": "3c749bb8-7940-49fd-9470-348d340e5b1d",
   "metadata": {},
   "outputs": [
    {
     "data": {
      "text/plain": [
       "['squarefeet_2020', 'lotsize_2020']"
      ]
     },
     "execution_count": 5,
     "metadata": {},
     "output_type": "execute_result"
    }
   ],
   "source": [
    "[col+'_2020' for col in oldcols if 'units' not in col]"
   ]
  },
  {
   "cell_type": "code",
   "execution_count": 6,
   "id": "8bd01524",
   "metadata": {},
   "outputs": [],
   "source": [
    "cols_to_exclude = [col for col in df_to_fit.columns \n",
    "                if col.startswith('usetype_') or col.startswith('usedesc_') \n",
    "                or col=='hasADU']"
   ]
  },
  {
   "cell_type": "markdown",
   "id": "cde40976-ed12-4bcf-bcd5-7dd20498438c",
   "metadata": {},
   "source": [
    "<div class=\"alert alert-block alert-info\">\n",
    "    <strong>Exercise:</strong> How would you rewrite this list comprehension as a <strong>for</strong> loop?\n",
    "</div>"
   ]
  },
  {
   "cell_type": "code",
   "execution_count": 7,
   "id": "4c0781cc-2b85-4a2a-a0c1-5f8294fc1822",
   "metadata": {},
   "outputs": [],
   "source": [
    "cols_to_exclude = []\n",
    "for col in df_to_fit.columns:\n",
    "    if col.startswith('usetype_') or col.startswith('usedesc_') or col=='hasADU':\n",
    "        cols_to_exclude.append(col)"
   ]
  },
  {
   "cell_type": "markdown",
   "id": "38b55ab5",
   "metadata": {},
   "source": [
    "Now let's create a list of the columns that we *don't* want to exclude. \n",
    "\n",
    "We can use a list comprehension again: we'll include that column in the new list if the condition (`col not in cols_to_exclude`) is `True`."
   ]
  },
  {
   "cell_type": "code",
   "execution_count": 8,
   "id": "669ee4e5",
   "metadata": {},
   "outputs": [
    {
     "data": {
      "text/plain": [
       "['YearBuilt1',\n",
       " 'Units1',\n",
       " 'Bedrooms1',\n",
       " 'Bathrooms1',\n",
       " 'SQFTmain1',\n",
       " 'Roll_LandValue',\n",
       " 'Roll_ImpValue',\n",
       " 'Roll_LandBaseYear',\n",
       " 'Roll_ImpBaseYear',\n",
       " 'CENTER_LAT',\n",
       " 'CENTER_LON']"
      ]
     },
     "execution_count": 8,
     "metadata": {},
     "output_type": "execute_result"
    }
   ],
   "source": [
    "otherCols = [col for col in df_to_fit.columns if col not in cols_to_exclude]\n",
    "otherCols"
   ]
  },
  {
   "cell_type": "markdown",
   "id": "7385a31d",
   "metadata": {},
   "source": [
    "Now let's scale `otherCols`. Note that the `StandardScaler` returns a numpy array, not a pandas DataFrame. So we need to convert the array to a dataframe and specify the column names and the index."
   ]
  },
  {
   "cell_type": "code",
   "execution_count": 9,
   "id": "add4105a",
   "metadata": {},
   "outputs": [
    {
     "data": {
      "text/html": [
       "<div>\n",
       "<style scoped>\n",
       "    .dataframe tbody tr th:only-of-type {\n",
       "        vertical-align: middle;\n",
       "    }\n",
       "\n",
       "    .dataframe tbody tr th {\n",
       "        vertical-align: top;\n",
       "    }\n",
       "\n",
       "    .dataframe thead th {\n",
       "        text-align: right;\n",
       "    }\n",
       "</style>\n",
       "<table border=\"1\" class=\"dataframe\">\n",
       "  <thead>\n",
       "    <tr style=\"text-align: right;\">\n",
       "      <th></th>\n",
       "      <th>YearBuilt1</th>\n",
       "      <th>Units1</th>\n",
       "      <th>Bedrooms1</th>\n",
       "      <th>Bathrooms1</th>\n",
       "      <th>SQFTmain1</th>\n",
       "      <th>Roll_LandValue</th>\n",
       "      <th>Roll_ImpValue</th>\n",
       "      <th>Roll_LandBaseYear</th>\n",
       "      <th>Roll_ImpBaseYear</th>\n",
       "      <th>CENTER_LAT</th>\n",
       "      <th>...</th>\n",
       "      <th>usedesc__Theaters</th>\n",
       "      <th>usedesc__Three Units (Any Combination)</th>\n",
       "      <th>usedesc__Timber-Pine</th>\n",
       "      <th>usedesc__Two Units</th>\n",
       "      <th>usedesc__Utility Commercial &amp; Mutual: Pumping Plants State Assessed Pr</th>\n",
       "      <th>usedesc__Vineyards</th>\n",
       "      <th>usedesc__Warehousing, Distribution, Storage</th>\n",
       "      <th>usedesc__Water Recreation</th>\n",
       "      <th>usedesc__Wholesale &amp; Manufacturing Outlets</th>\n",
       "      <th>hasADU</th>\n",
       "    </tr>\n",
       "    <tr>\n",
       "      <th>APN</th>\n",
       "      <th></th>\n",
       "      <th></th>\n",
       "      <th></th>\n",
       "      <th></th>\n",
       "      <th></th>\n",
       "      <th></th>\n",
       "      <th></th>\n",
       "      <th></th>\n",
       "      <th></th>\n",
       "      <th></th>\n",
       "      <th></th>\n",
       "      <th></th>\n",
       "      <th></th>\n",
       "      <th></th>\n",
       "      <th></th>\n",
       "      <th></th>\n",
       "      <th></th>\n",
       "      <th></th>\n",
       "      <th></th>\n",
       "      <th></th>\n",
       "      <th></th>\n",
       "    </tr>\n",
       "  </thead>\n",
       "  <tbody>\n",
       "    <tr>\n",
       "      <th>2004-001-003</th>\n",
       "      <td>0.200922</td>\n",
       "      <td>-0.09917</td>\n",
       "      <td>0.106676</td>\n",
       "      <td>0.043894</td>\n",
       "      <td>-0.070366</td>\n",
       "      <td>0.110462</td>\n",
       "      <td>-0.026365</td>\n",
       "      <td>0.189152</td>\n",
       "      <td>0.166185</td>\n",
       "      <td>1.018125</td>\n",
       "      <td>...</td>\n",
       "      <td>0</td>\n",
       "      <td>0</td>\n",
       "      <td>0</td>\n",
       "      <td>0</td>\n",
       "      <td>0</td>\n",
       "      <td>0</td>\n",
       "      <td>0</td>\n",
       "      <td>0</td>\n",
       "      <td>0</td>\n",
       "      <td>False</td>\n",
       "    </tr>\n",
       "    <tr>\n",
       "      <th>2004-001-004</th>\n",
       "      <td>0.200922</td>\n",
       "      <td>-0.09917</td>\n",
       "      <td>0.302178</td>\n",
       "      <td>0.043894</td>\n",
       "      <td>-0.041227</td>\n",
       "      <td>-0.099975</td>\n",
       "      <td>-0.035412</td>\n",
       "      <td>0.415242</td>\n",
       "      <td>0.373153</td>\n",
       "      <td>1.016651</td>\n",
       "      <td>...</td>\n",
       "      <td>0</td>\n",
       "      <td>0</td>\n",
       "      <td>0</td>\n",
       "      <td>0</td>\n",
       "      <td>0</td>\n",
       "      <td>0</td>\n",
       "      <td>0</td>\n",
       "      <td>0</td>\n",
       "      <td>0</td>\n",
       "      <td>False</td>\n",
       "    </tr>\n",
       "    <tr>\n",
       "      <th>2004-001-005</th>\n",
       "      <td>0.200922</td>\n",
       "      <td>-0.09917</td>\n",
       "      <td>0.106676</td>\n",
       "      <td>-0.148365</td>\n",
       "      <td>-0.072838</td>\n",
       "      <td>-0.003857</td>\n",
       "      <td>-0.046856</td>\n",
       "      <td>0.867420</td>\n",
       "      <td>0.787091</td>\n",
       "      <td>1.015171</td>\n",
       "      <td>...</td>\n",
       "      <td>0</td>\n",
       "      <td>0</td>\n",
       "      <td>0</td>\n",
       "      <td>0</td>\n",
       "      <td>0</td>\n",
       "      <td>0</td>\n",
       "      <td>0</td>\n",
       "      <td>0</td>\n",
       "      <td>0</td>\n",
       "      <td>False</td>\n",
       "    </tr>\n",
       "    <tr>\n",
       "      <th>2004-001-008</th>\n",
       "      <td>0.234672</td>\n",
       "      <td>-0.09917</td>\n",
       "      <td>0.106676</td>\n",
       "      <td>0.043894</td>\n",
       "      <td>-0.045422</td>\n",
       "      <td>-0.249323</td>\n",
       "      <td>-0.042185</td>\n",
       "      <td>-1.280428</td>\n",
       "      <td>-1.179111</td>\n",
       "      <td>1.019055</td>\n",
       "      <td>...</td>\n",
       "      <td>0</td>\n",
       "      <td>0</td>\n",
       "      <td>0</td>\n",
       "      <td>0</td>\n",
       "      <td>0</td>\n",
       "      <td>0</td>\n",
       "      <td>0</td>\n",
       "      <td>0</td>\n",
       "      <td>0</td>\n",
       "      <td>False</td>\n",
       "    </tr>\n",
       "    <tr>\n",
       "      <th>2004-001-009</th>\n",
       "      <td>0.234672</td>\n",
       "      <td>-0.09917</td>\n",
       "      <td>0.106676</td>\n",
       "      <td>0.043894</td>\n",
       "      <td>-0.060179</td>\n",
       "      <td>-0.242222</td>\n",
       "      <td>-0.044572</td>\n",
       "      <td>-1.054339</td>\n",
       "      <td>-0.972142</td>\n",
       "      <td>1.018964</td>\n",
       "      <td>...</td>\n",
       "      <td>0</td>\n",
       "      <td>0</td>\n",
       "      <td>0</td>\n",
       "      <td>0</td>\n",
       "      <td>0</td>\n",
       "      <td>0</td>\n",
       "      <td>0</td>\n",
       "      <td>0</td>\n",
       "      <td>0</td>\n",
       "      <td>False</td>\n",
       "    </tr>\n",
       "  </tbody>\n",
       "</table>\n",
       "<p>5 rows × 88 columns</p>\n",
       "</div>"
      ],
      "text/plain": [
       "              YearBuilt1   Units1  Bedrooms1  Bathrooms1  SQFTmain1  \\\n",
       "APN                                                                   \n",
       "2004-001-003    0.200922 -0.09917   0.106676    0.043894  -0.070366   \n",
       "2004-001-004    0.200922 -0.09917   0.302178    0.043894  -0.041227   \n",
       "2004-001-005    0.200922 -0.09917   0.106676   -0.148365  -0.072838   \n",
       "2004-001-008    0.234672 -0.09917   0.106676    0.043894  -0.045422   \n",
       "2004-001-009    0.234672 -0.09917   0.106676    0.043894  -0.060179   \n",
       "\n",
       "              Roll_LandValue  Roll_ImpValue  Roll_LandBaseYear  \\\n",
       "APN                                                              \n",
       "2004-001-003        0.110462      -0.026365           0.189152   \n",
       "2004-001-004       -0.099975      -0.035412           0.415242   \n",
       "2004-001-005       -0.003857      -0.046856           0.867420   \n",
       "2004-001-008       -0.249323      -0.042185          -1.280428   \n",
       "2004-001-009       -0.242222      -0.044572          -1.054339   \n",
       "\n",
       "              Roll_ImpBaseYear  CENTER_LAT  ...  usedesc__Theaters  \\\n",
       "APN                                         ...                      \n",
       "2004-001-003          0.166185    1.018125  ...                  0   \n",
       "2004-001-004          0.373153    1.016651  ...                  0   \n",
       "2004-001-005          0.787091    1.015171  ...                  0   \n",
       "2004-001-008         -1.179111    1.019055  ...                  0   \n",
       "2004-001-009         -0.972142    1.018964  ...                  0   \n",
       "\n",
       "              usedesc__Three Units (Any Combination)  usedesc__Timber-Pine  \\\n",
       "APN                                                                          \n",
       "2004-001-003                                       0                     0   \n",
       "2004-001-004                                       0                     0   \n",
       "2004-001-005                                       0                     0   \n",
       "2004-001-008                                       0                     0   \n",
       "2004-001-009                                       0                     0   \n",
       "\n",
       "              usedesc__Two Units  \\\n",
       "APN                                \n",
       "2004-001-003                   0   \n",
       "2004-001-004                   0   \n",
       "2004-001-005                   0   \n",
       "2004-001-008                   0   \n",
       "2004-001-009                   0   \n",
       "\n",
       "              usedesc__Utility Commercial & Mutual: Pumping Plants State Assessed Pr  \\\n",
       "APN                                                                                    \n",
       "2004-001-003                                                  0                        \n",
       "2004-001-004                                                  0                        \n",
       "2004-001-005                                                  0                        \n",
       "2004-001-008                                                  0                        \n",
       "2004-001-009                                                  0                        \n",
       "\n",
       "              usedesc__Vineyards  usedesc__Warehousing, Distribution, Storage  \\\n",
       "APN                                                                             \n",
       "2004-001-003                   0                                            0   \n",
       "2004-001-004                   0                                            0   \n",
       "2004-001-005                   0                                            0   \n",
       "2004-001-008                   0                                            0   \n",
       "2004-001-009                   0                                            0   \n",
       "\n",
       "              usedesc__Water Recreation  \\\n",
       "APN                                       \n",
       "2004-001-003                          0   \n",
       "2004-001-004                          0   \n",
       "2004-001-005                          0   \n",
       "2004-001-008                          0   \n",
       "2004-001-009                          0   \n",
       "\n",
       "              usedesc__Wholesale & Manufacturing Outlets  hasADU  \n",
       "APN                                                               \n",
       "2004-001-003                                           0   False  \n",
       "2004-001-004                                           0   False  \n",
       "2004-001-005                                           0   False  \n",
       "2004-001-008                                           0   False  \n",
       "2004-001-009                                           0   False  \n",
       "\n",
       "[5 rows x 88 columns]"
      ]
     },
     "execution_count": 9,
     "metadata": {},
     "output_type": "execute_result"
    }
   ],
   "source": [
    "# see https://scikit-learn.org/stable/modules/preprocessing.html for standardization\n",
    "from sklearn import preprocessing\n",
    "scaler = preprocessing.StandardScaler().fit(df_to_fit[otherCols])\n",
    "\n",
    "# convert to DataFrame and specify the column names and index\n",
    "df_scaled = pd.DataFrame(scaler.transform(df_to_fit[otherCols]), \n",
    "                         columns=otherCols, index=df_to_fit.index)\n",
    "\n",
    "# create a DataFrame with these scaled columns joined to the columns that we didn't scale\n",
    "df_scaled = df_scaled.join(df_to_fit[cols_to_exclude])\n",
    "\n",
    "df_scaled.head()"
   ]
  },
  {
   "cell_type": "markdown",
   "id": "7139839f-6714-4d29-a9a2-af605f792f76",
   "metadata": {},
   "source": [
    "<div class=\"alert alert-block alert-info\">\n",
    "    <strong>Exercise:</strong> Verify that the standardization works (each column should have mean zero and standard deviation one).\n",
    "</div>"
   ]
  },
  {
   "cell_type": "code",
   "execution_count": 10,
   "id": "0ba33fff",
   "metadata": {},
   "outputs": [
    {
     "data": {
      "text/html": [
       "<div>\n",
       "<style scoped>\n",
       "    .dataframe tbody tr th:only-of-type {\n",
       "        vertical-align: middle;\n",
       "    }\n",
       "\n",
       "    .dataframe tbody tr th {\n",
       "        vertical-align: top;\n",
       "    }\n",
       "\n",
       "    .dataframe thead th {\n",
       "        text-align: right;\n",
       "    }\n",
       "</style>\n",
       "<table border=\"1\" class=\"dataframe\">\n",
       "  <thead>\n",
       "    <tr style=\"text-align: right;\">\n",
       "      <th></th>\n",
       "      <th>YearBuilt1</th>\n",
       "      <th>Units1</th>\n",
       "      <th>Bedrooms1</th>\n",
       "      <th>Bathrooms1</th>\n",
       "      <th>SQFTmain1</th>\n",
       "      <th>Roll_LandValue</th>\n",
       "      <th>Roll_ImpValue</th>\n",
       "      <th>Roll_LandBaseYear</th>\n",
       "      <th>Roll_ImpBaseYear</th>\n",
       "      <th>CENTER_LAT</th>\n",
       "      <th>...</th>\n",
       "      <th>usedesc__Supermarkets</th>\n",
       "      <th>usedesc__Theaters</th>\n",
       "      <th>usedesc__Three Units (Any Combination)</th>\n",
       "      <th>usedesc__Timber-Pine</th>\n",
       "      <th>usedesc__Two Units</th>\n",
       "      <th>usedesc__Utility Commercial &amp; Mutual: Pumping Plants State Assessed Pr</th>\n",
       "      <th>usedesc__Vineyards</th>\n",
       "      <th>usedesc__Warehousing, Distribution, Storage</th>\n",
       "      <th>usedesc__Water Recreation</th>\n",
       "      <th>usedesc__Wholesale &amp; Manufacturing Outlets</th>\n",
       "    </tr>\n",
       "  </thead>\n",
       "  <tbody>\n",
       "    <tr>\n",
       "      <th>count</th>\n",
       "      <td>7.774850e+05</td>\n",
       "      <td>7.774850e+05</td>\n",
       "      <td>7.774850e+05</td>\n",
       "      <td>7.774850e+05</td>\n",
       "      <td>7.774850e+05</td>\n",
       "      <td>7.774850e+05</td>\n",
       "      <td>7.774850e+05</td>\n",
       "      <td>7.774850e+05</td>\n",
       "      <td>7.774850e+05</td>\n",
       "      <td>7.774850e+05</td>\n",
       "      <td>...</td>\n",
       "      <td>777485.000000</td>\n",
       "      <td>777485.000000</td>\n",
       "      <td>777485.000000</td>\n",
       "      <td>777485.0</td>\n",
       "      <td>777485.000000</td>\n",
       "      <td>777485.000000</td>\n",
       "      <td>777485.0</td>\n",
       "      <td>777485.000000</td>\n",
       "      <td>777485.000000</td>\n",
       "      <td>777485.000000</td>\n",
       "    </tr>\n",
       "    <tr>\n",
       "      <th>mean</th>\n",
       "      <td>-5.553581e-16</td>\n",
       "      <td>-1.769308e-17</td>\n",
       "      <td>-4.861942e-17</td>\n",
       "      <td>4.869254e-17</td>\n",
       "      <td>-1.710819e-17</td>\n",
       "      <td>-3.158435e-17</td>\n",
       "      <td>-2.120246e-18</td>\n",
       "      <td>-3.606757e-15</td>\n",
       "      <td>2.341336e-15</td>\n",
       "      <td>-5.034311e-14</td>\n",
       "      <td>...</td>\n",
       "      <td>0.000324</td>\n",
       "      <td>0.000089</td>\n",
       "      <td>0.022412</td>\n",
       "      <td>0.0</td>\n",
       "      <td>0.068859</td>\n",
       "      <td>0.000040</td>\n",
       "      <td>0.0</td>\n",
       "      <td>0.004097</td>\n",
       "      <td>0.000001</td>\n",
       "      <td>0.000192</td>\n",
       "    </tr>\n",
       "    <tr>\n",
       "      <th>std</th>\n",
       "      <td>1.000001e+00</td>\n",
       "      <td>1.000001e+00</td>\n",
       "      <td>1.000001e+00</td>\n",
       "      <td>1.000001e+00</td>\n",
       "      <td>1.000001e+00</td>\n",
       "      <td>1.000001e+00</td>\n",
       "      <td>1.000001e+00</td>\n",
       "      <td>1.000001e+00</td>\n",
       "      <td>1.000001e+00</td>\n",
       "      <td>1.000001e+00</td>\n",
       "      <td>...</td>\n",
       "      <td>0.018000</td>\n",
       "      <td>0.009420</td>\n",
       "      <td>0.148019</td>\n",
       "      <td>0.0</td>\n",
       "      <td>0.253215</td>\n",
       "      <td>0.006314</td>\n",
       "      <td>0.0</td>\n",
       "      <td>0.063873</td>\n",
       "      <td>0.001134</td>\n",
       "      <td>0.013842</td>\n",
       "    </tr>\n",
       "    <tr>\n",
       "      <th>min</th>\n",
       "      <td>-1.311646e+01</td>\n",
       "      <td>-2.209371e-01</td>\n",
       "      <td>-6.753328e-01</td>\n",
       "      <td>-5.328834e-01</td>\n",
       "      <td>-2.269242e-01</td>\n",
       "      <td>-3.285389e-01</td>\n",
       "      <td>-8.651547e-02</td>\n",
       "      <td>-1.131946e+02</td>\n",
       "      <td>-1.036286e+02</td>\n",
       "      <td>-3.173150e+00</td>\n",
       "      <td>...</td>\n",
       "      <td>0.000000</td>\n",
       "      <td>0.000000</td>\n",
       "      <td>0.000000</td>\n",
       "      <td>0.0</td>\n",
       "      <td>0.000000</td>\n",
       "      <td>0.000000</td>\n",
       "      <td>0.0</td>\n",
       "      <td>0.000000</td>\n",
       "      <td>0.000000</td>\n",
       "      <td>0.000000</td>\n",
       "    </tr>\n",
       "    <tr>\n",
       "      <th>25%</th>\n",
       "      <td>-4.882070e-02</td>\n",
       "      <td>-9.917034e-02</td>\n",
       "      <td>-2.843283e-01</td>\n",
       "      <td>-3.406242e-01</td>\n",
       "      <td>-1.392069e-01</td>\n",
       "      <td>-2.512988e-01</td>\n",
       "      <td>-6.588306e-02</td>\n",
       "      <td>-6.021602e-01</td>\n",
       "      <td>-5.064631e-01</td>\n",
       "      <td>-6.162655e-01</td>\n",
       "      <td>...</td>\n",
       "      <td>0.000000</td>\n",
       "      <td>0.000000</td>\n",
       "      <td>0.000000</td>\n",
       "      <td>0.0</td>\n",
       "      <td>0.000000</td>\n",
       "      <td>0.000000</td>\n",
       "      <td>0.0</td>\n",
       "      <td>0.000000</td>\n",
       "      <td>0.000000</td>\n",
       "      <td>0.000000</td>\n",
       "    </tr>\n",
       "    <tr>\n",
       "      <th>50%</th>\n",
       "      <td>6.592615e-02</td>\n",
       "      <td>-9.917034e-02</td>\n",
       "      <td>-8.882611e-02</td>\n",
       "      <td>-1.483651e-01</td>\n",
       "      <td>-1.087943e-01</td>\n",
       "      <td>-1.567389e-01</td>\n",
       "      <td>-5.150684e-02</td>\n",
       "      <td>1.326300e-01</td>\n",
       "      <td>1.144427e-01</td>\n",
       "      <td>-3.988048e-02</td>\n",
       "      <td>...</td>\n",
       "      <td>0.000000</td>\n",
       "      <td>0.000000</td>\n",
       "      <td>0.000000</td>\n",
       "      <td>0.0</td>\n",
       "      <td>0.000000</td>\n",
       "      <td>0.000000</td>\n",
       "      <td>0.0</td>\n",
       "      <td>0.000000</td>\n",
       "      <td>0.000000</td>\n",
       "      <td>0.000000</td>\n",
       "    </tr>\n",
       "    <tr>\n",
       "      <th>75%</th>\n",
       "      <td>1.874228e-01</td>\n",
       "      <td>-9.917034e-02</td>\n",
       "      <td>1.066761e-01</td>\n",
       "      <td>4.389404e-02</td>\n",
       "      <td>-4.999151e-02</td>\n",
       "      <td>6.913180e-03</td>\n",
       "      <td>-2.630315e-02</td>\n",
       "      <td>7.543755e-01</td>\n",
       "      <td>6.836063e-01</td>\n",
       "      <td>8.090708e-01</td>\n",
       "      <td>...</td>\n",
       "      <td>0.000000</td>\n",
       "      <td>0.000000</td>\n",
       "      <td>0.000000</td>\n",
       "      <td>0.0</td>\n",
       "      <td>0.000000</td>\n",
       "      <td>0.000000</td>\n",
       "      <td>0.0</td>\n",
       "      <td>0.000000</td>\n",
       "      <td>0.000000</td>\n",
       "      <td>0.000000</td>\n",
       "    </tr>\n",
       "    <tr>\n",
       "      <th>max</th>\n",
       "      <td>5.316633e-01</td>\n",
       "      <td>1.214241e+02</td>\n",
       "      <td>1.867939e+01</td>\n",
       "      <td>1.850077e+01</td>\n",
       "      <td>1.663685e+02</td>\n",
       "      <td>1.528883e+02</td>\n",
       "      <td>1.896980e+02</td>\n",
       "      <td>1.093509e+00</td>\n",
       "      <td>1.045801e+00</td>\n",
       "      <td>4.354188e+00</td>\n",
       "      <td>...</td>\n",
       "      <td>1.000000</td>\n",
       "      <td>1.000000</td>\n",
       "      <td>1.000000</td>\n",
       "      <td>0.0</td>\n",
       "      <td>1.000000</td>\n",
       "      <td>1.000000</td>\n",
       "      <td>0.0</td>\n",
       "      <td>1.000000</td>\n",
       "      <td>1.000000</td>\n",
       "      <td>1.000000</td>\n",
       "    </tr>\n",
       "  </tbody>\n",
       "</table>\n",
       "<p>8 rows × 87 columns</p>\n",
       "</div>"
      ],
      "text/plain": [
       "         YearBuilt1        Units1     Bedrooms1    Bathrooms1     SQFTmain1  \\\n",
       "count  7.774850e+05  7.774850e+05  7.774850e+05  7.774850e+05  7.774850e+05   \n",
       "mean  -5.553581e-16 -1.769308e-17 -4.861942e-17  4.869254e-17 -1.710819e-17   \n",
       "std    1.000001e+00  1.000001e+00  1.000001e+00  1.000001e+00  1.000001e+00   \n",
       "min   -1.311646e+01 -2.209371e-01 -6.753328e-01 -5.328834e-01 -2.269242e-01   \n",
       "25%   -4.882070e-02 -9.917034e-02 -2.843283e-01 -3.406242e-01 -1.392069e-01   \n",
       "50%    6.592615e-02 -9.917034e-02 -8.882611e-02 -1.483651e-01 -1.087943e-01   \n",
       "75%    1.874228e-01 -9.917034e-02  1.066761e-01  4.389404e-02 -4.999151e-02   \n",
       "max    5.316633e-01  1.214241e+02  1.867939e+01  1.850077e+01  1.663685e+02   \n",
       "\n",
       "       Roll_LandValue  Roll_ImpValue  Roll_LandBaseYear  Roll_ImpBaseYear  \\\n",
       "count    7.774850e+05   7.774850e+05       7.774850e+05      7.774850e+05   \n",
       "mean    -3.158435e-17  -2.120246e-18      -3.606757e-15      2.341336e-15   \n",
       "std      1.000001e+00   1.000001e+00       1.000001e+00      1.000001e+00   \n",
       "min     -3.285389e-01  -8.651547e-02      -1.131946e+02     -1.036286e+02   \n",
       "25%     -2.512988e-01  -6.588306e-02      -6.021602e-01     -5.064631e-01   \n",
       "50%     -1.567389e-01  -5.150684e-02       1.326300e-01      1.144427e-01   \n",
       "75%      6.913180e-03  -2.630315e-02       7.543755e-01      6.836063e-01   \n",
       "max      1.528883e+02   1.896980e+02       1.093509e+00      1.045801e+00   \n",
       "\n",
       "         CENTER_LAT  ...  usedesc__Supermarkets  usedesc__Theaters  \\\n",
       "count  7.774850e+05  ...          777485.000000      777485.000000   \n",
       "mean  -5.034311e-14  ...               0.000324           0.000089   \n",
       "std    1.000001e+00  ...               0.018000           0.009420   \n",
       "min   -3.173150e+00  ...               0.000000           0.000000   \n",
       "25%   -6.162655e-01  ...               0.000000           0.000000   \n",
       "50%   -3.988048e-02  ...               0.000000           0.000000   \n",
       "75%    8.090708e-01  ...               0.000000           0.000000   \n",
       "max    4.354188e+00  ...               1.000000           1.000000   \n",
       "\n",
       "       usedesc__Three Units (Any Combination)  usedesc__Timber-Pine  \\\n",
       "count                           777485.000000              777485.0   \n",
       "mean                                 0.022412                   0.0   \n",
       "std                                  0.148019                   0.0   \n",
       "min                                  0.000000                   0.0   \n",
       "25%                                  0.000000                   0.0   \n",
       "50%                                  0.000000                   0.0   \n",
       "75%                                  0.000000                   0.0   \n",
       "max                                  1.000000                   0.0   \n",
       "\n",
       "       usedesc__Two Units  \\\n",
       "count       777485.000000   \n",
       "mean             0.068859   \n",
       "std              0.253215   \n",
       "min              0.000000   \n",
       "25%              0.000000   \n",
       "50%              0.000000   \n",
       "75%              0.000000   \n",
       "max              1.000000   \n",
       "\n",
       "       usedesc__Utility Commercial & Mutual: Pumping Plants State Assessed Pr  \\\n",
       "count                                      777485.000000                        \n",
       "mean                                            0.000040                        \n",
       "std                                             0.006314                        \n",
       "min                                             0.000000                        \n",
       "25%                                             0.000000                        \n",
       "50%                                             0.000000                        \n",
       "75%                                             0.000000                        \n",
       "max                                             1.000000                        \n",
       "\n",
       "       usedesc__Vineyards  usedesc__Warehousing, Distribution, Storage  \\\n",
       "count            777485.0                                777485.000000   \n",
       "mean                  0.0                                     0.004097   \n",
       "std                   0.0                                     0.063873   \n",
       "min                   0.0                                     0.000000   \n",
       "25%                   0.0                                     0.000000   \n",
       "50%                   0.0                                     0.000000   \n",
       "75%                   0.0                                     0.000000   \n",
       "max                   0.0                                     1.000000   \n",
       "\n",
       "       usedesc__Water Recreation  usedesc__Wholesale & Manufacturing Outlets  \n",
       "count              777485.000000                               777485.000000  \n",
       "mean                    0.000001                                    0.000192  \n",
       "std                     0.001134                                    0.013842  \n",
       "min                     0.000000                                    0.000000  \n",
       "25%                     0.000000                                    0.000000  \n",
       "50%                     0.000000                                    0.000000  \n",
       "75%                     0.000000                                    0.000000  \n",
       "max                     1.000000                                    1.000000  \n",
       "\n",
       "[8 rows x 87 columns]"
      ]
     },
     "execution_count": 10,
     "metadata": {},
     "output_type": "execute_result"
    }
   ],
   "source": [
    "df_scaled.describe()"
   ]
  },
  {
   "cell_type": "markdown",
   "id": "5ef008d8",
   "metadata": {},
   "source": [
    "We'll do our train/test split as before."
   ]
  },
  {
   "cell_type": "code",
   "execution_count": 11,
   "id": "ae29fe03",
   "metadata": {},
   "outputs": [],
   "source": [
    "X_train, X_test, y_train, y_test = train_test_split(\n",
    "      df_scaled[xvars], df_scaled[yvar], test_size = 0.25, random_state = 1)"
   ]
  },
  {
   "cell_type": "markdown",
   "id": "33657598",
   "metadata": {},
   "source": [
    "And estimate our neural network model. \n",
    "\n",
    "Note that the workflow and syntax is very similar to the random forests:\n",
    "* Initialize the classifier object - here, we call it `mlp`\n",
    "* Fit to the data\n",
    "* Predict"
   ]
  },
  {
   "cell_type": "code",
   "execution_count": 12,
   "id": "02889322",
   "metadata": {},
   "outputs": [],
   "source": [
    "from sklearn.neural_network import MLPClassifier\n",
    "mlp = MLPClassifier(hidden_layer_sizes=(10, 10, 10), max_iter=1000)\n",
    "mlp.fit(X_train, y_train)\n",
    "y_pred = mlp.predict(X_test)"
   ]
  },
  {
   "cell_type": "markdown",
   "id": "94361499",
   "metadata": {},
   "source": [
    "How did we do?"
   ]
  },
  {
   "cell_type": "code",
   "execution_count": 13,
   "id": "f582aade",
   "metadata": {},
   "outputs": [
    {
     "name": "stdout",
     "output_type": "stream",
     "text": [
      "              precision    recall  f1-score   support\n",
      "\n",
      "       False       0.97      1.00      0.98    188165\n",
      "        True       0.70      0.02      0.03      6207\n",
      "\n",
      "    accuracy                           0.97    194372\n",
      "   macro avg       0.83      0.51      0.51    194372\n",
      "weighted avg       0.96      0.97      0.95    194372\n",
      "\n"
     ]
    }
   ],
   "source": [
    "print(classification_report(y_test, y_pred))"
   ]
  },
  {
   "cell_type": "code",
   "execution_count": 14,
   "id": "d450b8f5",
   "metadata": {},
   "outputs": [
    {
     "data": {
      "text/plain": [
       "<sklearn.metrics._plot.confusion_matrix.ConfusionMatrixDisplay at 0x1f880f45660>"
      ]
     },
     "execution_count": 14,
     "metadata": {},
     "output_type": "execute_result"
    },
    {
     "data": {
      "image/png": "[encoded data removed]",
      "text/plain": [
       "<Figure size 640x480 with 2 Axes>"
      ]
     },
     "metadata": {},
     "output_type": "display_data"
    }
   ],
   "source": [
    "ConfusionMatrixDisplay.from_predictions(y_test, y_pred)"
   ]
  },
  {
   "cell_type": "markdown",
   "id": "0e65db07",
   "metadata": {},
   "source": [
    "Interestingly, we get very similar results to the random forests. Perhaps this indicates the inherent unpredictability of ADUs, given how rarely they are constructed. Or we might be able to do better with additional predictors or through adjusting the hyperparameters."
   ]
  },
  {
   "cell_type": "markdown",
   "id": "bf5fd413",
   "metadata": {},
   "source": [
    "## Logistic regression\n",
    "As a point of comparison, how would a more traditional logistic regression fare?\n",
    "\n",
    "Many different regression estimators are implemented in `scikit-learn`. And the syntax should be familiar by now. Note that standardization (as we did for neural networks) helps.\n",
    "\n"
   ]
  },
  {
   "cell_type": "code",
   "execution_count": 15,
   "id": "61237a83",
   "metadata": {},
   "outputs": [
    {
     "name": "stderr",
     "output_type": "stream",
     "text": [
      "C:\\Users\\User\\anaconda3\\lib\\site-packages\\sklearn\\linear_model\\_logistic.py:458: ConvergenceWarning: lbfgs failed to converge (status=1):\n",
      "STOP: TOTAL NO. of ITERATIONS REACHED LIMIT.\n",
      "\n",
      "Increase the number of iterations (max_iter) or scale the data as shown in:\n",
      "    https://scikit-learn.org/stable/modules/preprocessing.html\n",
      "Please also refer to the documentation for alternative solver options:\n",
      "    https://scikit-learn.org/stable/modules/linear_model.html#logistic-regression\n",
      "  n_iter_i = _check_optimize_result(\n"
     ]
    }
   ],
   "source": [
    "from sklearn.linear_model import LogisticRegression\n",
    "lr = LogisticRegression()\n",
    "lr.fit(X_train, y_train)\n",
    "y_pred = lr.predict(X_test)"
   ]
  },
  {
   "cell_type": "markdown",
   "id": "42cef0fc",
   "metadata": {},
   "source": [
    "Note that it doesn't even converge! Methods like logistic regression don't handle highly correlated variables very well.\n",
    "\n",
    "We might be able to do better with a smaller set of predictors."
   ]
  },
  {
   "cell_type": "code",
   "execution_count": 16,
   "id": "6120ad5d",
   "metadata": {},
   "outputs": [
    {
     "data": {
      "text/plain": [
       "<sklearn.metrics._plot.confusion_matrix.ConfusionMatrixDisplay at 0x1f88454bfd0>"
      ]
     },
     "execution_count": 16,
     "metadata": {},
     "output_type": "execute_result"
    },
    {
     "data": {
      "image/png": "[encoded data removed]",
      "text/plain": [
       "<Figure size 640x480 with 2 Axes>"
      ]
     },
     "metadata": {},
     "output_type": "display_data"
    }
   ],
   "source": [
    "xvars = ['YearBuilt1', 'Units1', 'Bedrooms1', 'Bathrooms1', 'SQFTmain1', 'Roll_LandValue', \n",
    "             'Roll_ImpValue', 'Roll_LandBaseYear', 'Roll_ImpBaseYear', 'CENTER_LAT', 'CENTER_LON', 'usedesc__Single']\n",
    "\n",
    "lr = LogisticRegression()\n",
    "lr.fit(X_train[xvars], y_train)\n",
    "y_pred = lr.predict(X_test[xvars])\n",
    "ConfusionMatrixDisplay.from_predictions(y_test, y_pred)"
   ]
  },
  {
   "cell_type": "markdown",
   "id": "e2c65f60",
   "metadata": {},
   "source": [
    "Not so great, eh? So our random forests and neural networks approaches look much better by comparison."
   ]
  },
  {
   "cell_type": "markdown",
   "id": "93785bc8",
   "metadata": {},
   "source": [
    "<div class=\"alert alert-block alert-info\">\n",
    "<h3>Key Takeaways</h3>\n",
    "<ul>\n",
    "  <li>There are several different approaches to machine learning. Random forests and neural networks are two of the most popular.</li>\n",
    "  <li>scikit-learn provides a consistent syntax: initialize-fit-predict. So once you've done one ML model, others are much simpler.</li>\n",
    "</ul>\n",
    "</div>"
   ]
  }
 ],
 "metadata": {
  "kernelspec": {
   "display_name": "Python 3 (ipykernel)",
   "language": "python",
   "name": "python3"
  },
  "language_info": {
   "codemirror_mode": {
    "name": "ipython",
    "version": 3
   },
   "file_extension": ".py",
   "mimetype": "text/x-python",
   "name": "python",
   "nbconvert_exporter": "python",
   "pygments_lexer": "ipython3",
   "version": "3.9.16"
  }
 },
 "nbformat": 4,
 "nbformat_minor": 5
}
